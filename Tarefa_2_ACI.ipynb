{
  "nbformat": 4,
  "nbformat_minor": 0,
  "metadata": {
    "colab": {
      "name": "Tarefa 2 - ACI.ipynb",
      "provenance": [],
      "collapsed_sections": [],
      "authorship_tag": "ABX9TyOR3MrbTDdi7vWsSrm8mFit",
      "include_colab_link": true
    },
    "kernelspec": {
      "name": "python3",
      "display_name": "Python 3"
    },
    "language_info": {
      "name": "python"
    }
  },
  "cells": [
    {
      "cell_type": "markdown",
      "metadata": {
        "id": "view-in-github",
        "colab_type": "text"
      },
      "source": [
        "<a href=\"https://colab.research.google.com/github/souza-dev/AC1_Tarefa_2/blob/main/Tarefa_2_ACI.ipynb\" target=\"_parent\"><img src=\"https://colab.research.google.com/assets/colab-badge.svg\" alt=\"Open In Colab\"/></a>"
      ]
    },
    {
      "cell_type": "markdown",
      "metadata": {
        "id": "ZdfOwadcFIVv"
      },
      "source": [
        "# Importando os pacotes necessários"
      ]
    },
    {
      "cell_type": "code",
      "metadata": {
        "id": "ihQtYdzQsfSj"
      },
      "source": [
        "from sklearn import datasets\n",
        "import numpy as np\n",
        "import matplotlib.pyplot as plt\n",
        "from sklearn import svm \n",
        "from sklearn.model_selection import train_test_split\n",
        "from sklearn.metrics import classification_report\n",
        "from sklearn.metrics import accuracy_score"
      ],
      "execution_count": 10,
      "outputs": []
    },
    {
      "cell_type": "markdown",
      "metadata": {
        "id": "3MsnQc3mFOu7"
      },
      "source": [
        "# Lendo o dataset"
      ]
    },
    {
      "cell_type": "code",
      "metadata": {
        "colab": {
          "base_uri": "https://localhost:8080/"
        },
        "id": "n3WEKQmqs5A9",
        "outputId": "547b5179-5106-459a-9446-695657cb15bb"
      },
      "source": [
        "digits = datasets.load_digits()\n",
        "print(\"Forma de dados da imagem \", digits.data.shape)\n",
        "print(\"Forma de dados do rótulo \", digits.target.shape)"
      ],
      "execution_count": 11,
      "outputs": [
        {
          "output_type": "stream",
          "text": [
            "Forma de dados da imagem  (1797, 64)\n",
            "Forma de dados do rótulo  (1797,)\n"
          ],
          "name": "stdout"
        }
      ]
    },
    {
      "cell_type": "code",
      "metadata": {
        "colab": {
          "base_uri": "https://localhost:8080/"
        },
        "id": "Ba6NvaZrEUUO",
        "outputId": "60cc5fc6-c33f-4d18-e9f9-a77a41ac8e69"
      },
      "source": [
        "digits.images[0]"
      ],
      "execution_count": 12,
      "outputs": [
        {
          "output_type": "execute_result",
          "data": {
            "text/plain": [
              "array([[ 0.,  0.,  5., 13.,  9.,  1.,  0.,  0.],\n",
              "       [ 0.,  0., 13., 15., 10., 15.,  5.,  0.],\n",
              "       [ 0.,  3., 15.,  2.,  0., 11.,  8.,  0.],\n",
              "       [ 0.,  4., 12.,  0.,  0.,  8.,  8.,  0.],\n",
              "       [ 0.,  5.,  8.,  0.,  0.,  9.,  8.,  0.],\n",
              "       [ 0.,  4., 11.,  0.,  1., 12.,  7.,  0.],\n",
              "       [ 0.,  2., 14.,  5., 10., 12.,  0.,  0.],\n",
              "       [ 0.,  0.,  6., 13., 10.,  0.,  0.,  0.]])"
            ]
          },
          "metadata": {
            "tags": []
          },
          "execution_count": 12
        }
      ]
    },
    {
      "cell_type": "code",
      "metadata": {
        "colab": {
          "base_uri": "https://localhost:8080/"
        },
        "id": "px568vamEQNF",
        "outputId": "00b0e128-8119-4ac2-fcd4-59ec3f9c527f"
      },
      "source": [
        "digits.data[0]"
      ],
      "execution_count": 13,
      "outputs": [
        {
          "output_type": "execute_result",
          "data": {
            "text/plain": [
              "array([ 0.,  0.,  5., 13.,  9.,  1.,  0.,  0.,  0.,  0., 13., 15., 10.,\n",
              "       15.,  5.,  0.,  0.,  3., 15.,  2.,  0., 11.,  8.,  0.,  0.,  4.,\n",
              "       12.,  0.,  0.,  8.,  8.,  0.,  0.,  5.,  8.,  0.,  0.,  9.,  8.,\n",
              "        0.,  0.,  4., 11.,  0.,  1., 12.,  7.,  0.,  0.,  2., 14.,  5.,\n",
              "       10., 12.,  0.,  0.,  0.,  0.,  6., 13., 10.,  0.,  0.,  0.])"
            ]
          },
          "metadata": {
            "tags": []
          },
          "execution_count": 13
        }
      ]
    },
    {
      "cell_type": "markdown",
      "metadata": {
        "id": "uu7IEclx28hm"
      },
      "source": [
        "Aqui foi feita uma cópia dos dados e aplicado um filtro onde os valores maiores que 5 foram convertidos para 255 e todos os outros para zero."
      ]
    },
    {
      "cell_type": "code",
      "metadata": {
        "id": "fmdeuwE4179g"
      },
      "source": [
        "newData = np.copy(digits.data)\n",
        "for i in range(len(newData)):\n",
        "  for j in range(len(newData[i])):\n",
        "    newData[i][j] = 255 if newData[i][j] > 5 else 0\n"
      ],
      "execution_count": 14,
      "outputs": []
    },
    {
      "cell_type": "markdown",
      "metadata": {
        "id": "fp0tbbLJJc_i"
      },
      "source": [
        "Plotando alguns dos dados em formato de figura e seus respectivos targets."
      ]
    },
    {
      "cell_type": "code",
      "metadata": {
        "colab": {
          "base_uri": "https://localhost:8080/",
          "height": 525
        },
        "id": "jirCBkZ9t8Ah",
        "outputId": "c0a5e679-257e-4852-d85e-26d362feaad4"
      },
      "source": [
        "plt.figure(figsize=(20,8))\n",
        "for index, (image,label) in enumerate(zip(digits.images[0:5], digits.target[0:5])):\n",
        "  plt.subplot(1,5, index + 1)\n",
        "  plt.imshow(image, cmap=plt.cm.gray)\n",
        "  plt.title('Target: {}\\n'.format(label, fontsize = 20))\n",
        "\n",
        "plt.figure(figsize=(20,8))\n",
        "for index, (image,label) in enumerate(zip(newData[0:5], digits.target[0:5])):\n",
        "  plt.subplot(1,5, index + 1)\n",
        "  plt.imshow(np.reshape(image, (8,8)), cmap=plt.cm.gray)\n",
        "  plt.title('Target (with filter): {}\\n'.format(label, fontsize = 20))"
      ],
      "execution_count": 15,
      "outputs": [
        {
          "output_type": "display_data",
          "data": {
            "image/png": "[encoded data removed]",
            "text/plain": [
              "<Figure size 1440x576 with 5 Axes>"
            ]
          },
          "metadata": {
            "tags": [],
            "needs_background": "light"
          }
        },
        {
          "output_type": "display_data",
          "data": {
            "image/png": "[encoded data removed]",
            "text/plain": [
              "<Figure size 1440x576 with 5 Axes>"
            ]
          },
          "metadata": {
            "tags": [],
            "needs_background": "light"
          }
        }
      ]
    },
    {
      "cell_type": "markdown",
      "metadata": {
        "id": "SIsfaAXrKQQe"
      },
      "source": [
        "# Separando os dados de treino e de teste"
      ]
    },
    {
      "cell_type": "code",
      "metadata": {
        "id": "jNHK1iSi4exe"
      },
      "source": [
        "X1_train, X1_test, y1_train, y1_test = train_test_split(digits.data, digits.target, test_size=0.3, shuffle=False, random_state=42)\n",
        "X2_train, X2_test, y2_train, y2_test = train_test_split(newData, digits.target, test_size=0.3, shuffle=False, random_state=42)"
      ],
      "execution_count": 16,
      "outputs": []
    },
    {
      "cell_type": "markdown",
      "metadata": {
        "id": "vU9bH8bNKXAF"
      },
      "source": [
        "# Treinando os modelos"
      ]
    },
    {
      "cell_type": "code",
      "metadata": {
        "id": "hU37NU8l3_at"
      },
      "source": [
        "clf = svm.SVC(gamma=0.001, C=100.)\n",
        "\n",
        "clf.fit(X1_train, y1_train)\n",
        "y1_pred = clf.predict(X1_test)\n",
        "\n",
        "clf.fit(X2_train, y2_train)\n",
        "y2_pred = clf.predict(X2_test)"
      ],
      "execution_count": 17,
      "outputs": []
    },
    {
      "cell_type": "markdown",
      "metadata": {
        "id": "guItHiM_KbkR"
      },
      "source": [
        "# Verificando a acurácia"
      ]
    },
    {
      "cell_type": "code",
      "metadata": {
        "colab": {
          "base_uri": "https://localhost:8080/"
        },
        "id": "MMVeOpEf52np",
        "outputId": "56170ef1-69ee-4f38-ead5-1a609a8f57bf"
      },
      "source": [
        "score1 = accuracy_score(y1_pred, y1_test)\n",
        "score2 = accuracy_score(y2_pred, y2_test)\n",
        "print(f\"O score do treinamento com os dados originais foi {np.round(score1, 2)}\")\n",
        "print(f\"O score do treinamento com os dados com filtro foi {np.round(score2, 2)}\")\n"
      ],
      "execution_count": 18,
      "outputs": [
        {
          "output_type": "stream",
          "text": [
            "O score do treinamento com os dados originais foi 0.97\n",
            "O score do treinamento com os dados com filtro foi 0.13\n"
          ],
          "name": "stdout"
        }
      ]
    },
    {
      "cell_type": "markdown",
      "metadata": {
        "id": "HMzSZjhB6RaQ"
      },
      "source": [
        "# Conclusão\n",
        "\n",
        "Como foi retirado informação dos dados, limitando os tons de cinza a valores brancos ou pretos,o score foi menor com o modelo treinado após aplicar o filtro."
      ]
    }
  ]
}